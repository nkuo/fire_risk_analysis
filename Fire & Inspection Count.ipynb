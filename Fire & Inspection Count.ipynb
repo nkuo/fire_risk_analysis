{
 "cells": [
  {
   "cell_type": "markdown",
   "metadata": {},
   "source": [
    "# Fire Bucket Distribution"
   ]
  },
  {
   "cell_type": "markdown",
   "metadata": {},
   "source": [
    "We want to merge the fire risk scores with the fire incidents file, and see how many properties actually had an incident after. "
   ]
  },
  {
   "cell_type": "markdown",
   "metadata": {},
   "source": [
    "## Loading the Data"
   ]
  },
  {
   "cell_type": "code",
   "execution_count": 1,
   "metadata": {},
   "outputs": [],
   "source": [
    "import pandas as pd\n",
    "import datetime\n",
    "from dateutil.relativedelta import relativedelta\n",
    "import numpy as np"
   ]
  },
  {
   "cell_type": "code",
   "execution_count": 2,
   "metadata": {},
   "outputs": [],
   "source": [
    "fire_new = pd.read_csv(\"datasets/Fire_Incidents_New.csv\", low_memory=False, encoding = 'utf-8',dtype={'street':'str','number':'str', 'CALL_CREATED_DATE': 'str'})\n",
    "fire_inspections = pd.read_csv(\"datasets/Fire_Inspections.csv\", low_memory=False, dtype={'parcel':'str'})\n",
    "results = pd.read_csv(\"datasets/Results.csv\", low_memory=False, dtype={'PROPERTYADDRESS':'str','PROPERTYHOUSENUM':'str'})\n",
    "parcels = pd.read_csv(\"datasets/parcels.csv\", low_memory=False, dtype={'PIN':'str'})\n",
    "pittdata = pd.read_csv(\"datasets/pittdata.csv\", low_memory=False, encoding = \"ISO-8859-1\", dtype={'PROPERTYADDRESS':'str','PROPERTYHOUSENUM':'str','CLASSDESC':'str'})"
   ]
  },
  {
   "cell_type": "markdown",
   "metadata": {},
   "source": [
    "## Merging Parcels with Addresses in order to merge Fire Inspections data at Parcel Level"
   ]
  },
  {
   "cell_type": "code",
   "execution_count": 3,
   "metadata": {},
   "outputs": [
    {
     "data": {
      "text/html": [
       "<div>\n",
       "<style scoped>\n",
       "    .dataframe tbody tr th:only-of-type {\n",
       "        vertical-align: middle;\n",
       "    }\n",
       "\n",
       "    .dataframe tbody tr th {\n",
       "        vertical-align: top;\n",
       "    }\n",
       "\n",
       "    .dataframe thead th {\n",
       "        text-align: right;\n",
       "    }\n",
       "</style>\n",
       "<table border=\"1\" class=\"dataframe\">\n",
       "  <thead>\n",
       "    <tr style=\"text-align: right;\">\n",
       "      <th></th>\n",
       "      <th>PROPERTYHOUSENUM</th>\n",
       "      <th>PROPERTYADDRESS</th>\n",
       "      <th>PARID</th>\n",
       "      <th>MUNIDESC</th>\n",
       "      <th>CLASSDESC</th>\n",
       "    </tr>\n",
       "  </thead>\n",
       "  <tbody>\n",
       "    <tr>\n",
       "      <th>0</th>\n",
       "      <td>564</td>\n",
       "      <td>FORBES AVE</td>\n",
       "      <td>0002K00173000000</td>\n",
       "      <td>1st Ward  - PITTSBURGH</td>\n",
       "      <td>COMMERCIAL</td>\n",
       "    </tr>\n",
       "    <tr>\n",
       "      <th>1</th>\n",
       "      <td>952</td>\n",
       "      <td>VICKROY ST</td>\n",
       "      <td>0002K00190000000</td>\n",
       "      <td>1st Ward  - PITTSBURGH</td>\n",
       "      <td>GOVERNMENT</td>\n",
       "    </tr>\n",
       "    <tr>\n",
       "      <th>2</th>\n",
       "      <td>1001</td>\n",
       "      <td>BLUFF ST</td>\n",
       "      <td>0002K00192000000</td>\n",
       "      <td>1st Ward  - PITTSBURGH</td>\n",
       "      <td>GOVERNMENT</td>\n",
       "    </tr>\n",
       "    <tr>\n",
       "      <th>3</th>\n",
       "      <td>900</td>\n",
       "      <td>LOCUST ST</td>\n",
       "      <td>0002K00194000000</td>\n",
       "      <td>1st Ward  - PITTSBURGH</td>\n",
       "      <td>GOVERNMENT</td>\n",
       "    </tr>\n",
       "    <tr>\n",
       "      <th>4</th>\n",
       "      <td>0</td>\n",
       "      <td>LOCUST ST</td>\n",
       "      <td>0002K00201000000</td>\n",
       "      <td>1st Ward  - PITTSBURGH</td>\n",
       "      <td>GOVERNMENT</td>\n",
       "    </tr>\n",
       "  </tbody>\n",
       "</table>\n",
       "</div>"
      ],
      "text/plain": [
       "  PROPERTYHOUSENUM PROPERTYADDRESS             PARID                MUNIDESC  \\\n",
       "0              564      FORBES AVE  0002K00173000000  1st Ward  - PITTSBURGH   \n",
       "1              952      VICKROY ST  0002K00190000000  1st Ward  - PITTSBURGH   \n",
       "2             1001        BLUFF ST  0002K00192000000  1st Ward  - PITTSBURGH   \n",
       "3              900       LOCUST ST  0002K00194000000  1st Ward  - PITTSBURGH   \n",
       "4                0       LOCUST ST  0002K00201000000  1st Ward  - PITTSBURGH   \n",
       "\n",
       "    CLASSDESC  \n",
       "0  COMMERCIAL  \n",
       "1  GOVERNMENT  \n",
       "2  GOVERNMENT  \n",
       "3  GOVERNMENT  \n",
       "4  GOVERNMENT  "
      ]
     },
     "execution_count": 3,
     "metadata": {},
     "output_type": "execute_result"
    }
   ],
   "source": [
    "pitt_risk_parcels = pd.merge(left=pittdata,right=parcels, how='left', left_on='PARID', right_on='PIN')\n",
    "parcel_address = pitt_risk_parcels[['PROPERTYHOUSENUM', 'PROPERTYADDRESS', 'PARID', 'MUNIDESC', 'CLASSDESC']]\n",
    "parcel_address.head()"
   ]
  },
  {
   "cell_type": "markdown",
   "metadata": {},
   "source": [
    "## Fire Incidents DataFrame Cleaning"
   ]
  },
  {
   "cell_type": "code",
   "execution_count": 4,
   "metadata": {},
   "outputs": [],
   "source": [
    "fire_new['descript'] = fire_new['descript'].str.strip()\n",
    "remove_descript = ['System malfunction, Other',\n",
    "                   # 'Smoke detector activation, no fire - unintentional']\n",
    "                   # 'Alarm system activation, no fire - unintentional']\n",
    "                   'Detector activation, no fire - unintentional', 'Smoke detector activation due to malfunction',\n",
    "                   'Dispatched & cancelled en route', 'Dispatched & cancelled on arrival',\n",
    "                   'EMS call, excluding vehicle accident with injury', 'Medical assist, assist EMS crew',\n",
    "                   'Emergency medical service, other', 'Good intent call, Other', 'Rescue, EMS incident, other',\n",
    "                   'Medical Alarm Activation (No Medical Service Req)', 'Motor Vehicle Accident with no injuries',\n",
    "                   'No Incident found on arrival at dispatch address', 'Unintentional transmission of alarm, Other',\n",
    "                   'Motor vehicle accident with injuries', 'Vehicle accident, general cleanup', 'Power line down',\n",
    "                   'Person in distress, Other', 'Cable/Telco Wires Down', 'Service Call, other',\n",
    "                   'Vehicle Accident canceled en route', 'Lock-out', 'False alarm or false call, Other',\n",
    "                   'Assist police or other governmental agency', 'Special type of incident, Other',\n",
    "                   'Alarm system sounded due to malfunction', 'Motor vehicle/pedestrian accident (MV Ped)',\n",
    "                   'Assist invalid ', 'Malicious, mischievous false call, Other', 'Accident, potential accident, Other',\n",
    "                   'Assist invalid', 'EMS call, party transported by non-fire agency', 'Rescue or EMS standby',\n",
    "                   'Public service assistance, Other', 'Police matter', 'Lock-in (if lock out , use 511 )',\n",
    "                   'Sprinkler activation, no fire - unintentional', 'Wrong location',\n",
    "                   'Local alarm system, malicious false alarm', 'Authorized controlled burning',\n",
    "                   'Water problem, Other',\n",
    "                   # 'Smoke or odor removal']\n",
    "                   'Passenger vehicle fire', 'CO detector activation due to malfunction',\n",
    "                   'Authorized controlled burning', 'Steam, vapor, fog or dust thought to be smoke', 'Overheated motor',\n",
    "                   'Local alarm system, malicious false alarm', 'Central station, malicious false alarm',\n",
    "                   'Public service',\n",
    "                   # 'Building or structure weakened or collapsed'\n",
    "                   'Heat detector activation due to malfunction', 'Citizen complaint',\n",
    "                   'Municipal alarm system, malicious false alarm', 'Sprinkler activation due to malfunction',\n",
    "                   'Severe weather or natural disaster, Other', 'Water evacuation', 'Breakdown of light ballast',\n",
    "                   'Extrication of victim(s) from vehicle', 'Flood assessment', 'Telephone, malicious false alarm',\n",
    "                   'Cover assignment, standby, moveup', 'Road freight or transport vehicle fire']"
   ]
  },
  {
   "cell_type": "code",
   "execution_count": 5,
   "metadata": {},
   "outputs": [],
   "source": [
    "for descript in remove_descript:\n",
    "    fire_new = fire_new[fire_new.descript != descript]\n",
    "fire_new = fire_new[fire_new['full.code'].str.strip()  != '540 - Animal problem, Other']\n",
    "fire_new = fire_new[fire_new['full.code'].str.strip()  != '5532 - Public Education (Station Visit)']\n",
    "fire_new = fire_new[fire_new['full.code'].str.strip()  != '353 - Removal of victim(s) from stalled elevator']"
   ]
  },
  {
   "cell_type": "code",
   "execution_count": 6,
   "metadata": {},
   "outputs": [],
   "source": [
    "#correcting problems with the street column\n",
    "fire_new['street'] = fire_new['street'].replace(to_replace=', PGH', value='', regex=True)\n",
    "fire_new['street'] = fire_new['street'].replace(to_replace=', P', value='', regex=True)\n",
    "fire_new['street'] = fire_new['street'].replace(to_replace=',', value='', regex=True)\n",
    "fire_new['street'] = fire_new['street'].replace(to_replace='#.*', value='', regex=True)\n",
    "fire_new['street'] = fire_new['street'].str.strip()\n",
    "fire_new['number'] = fire_new['number'].str.strip()"
   ]
  },
  {
   "cell_type": "code",
   "execution_count": 7,
   "metadata": {},
   "outputs": [],
   "source": [
    "# drop duplicates\n",
    "fire_new = fire_new.drop_duplicates()"
   ]
  },
  {
   "cell_type": "code",
   "execution_count": 19,
   "metadata": {},
   "outputs": [],
   "source": [
    "#convert it to datetime and then check how many properties had a call\n",
    "fire_new = fire_new[['CALL_CREATED_DATE', 'number', 'street', 'CALL_TYPE_FINAL', 'full.code']]\n",
    "fire_new['CALL_CREATED_DATE'] = pd.to_datetime(fire_new['CALL_CREATED_DATE'])\n",
    "\n",
    "#make full.code into different fire columns\n",
    "fire_new['111 - Building Fire'] = np.where(fire_new['full.code'].astype(str).str[:3] == '111', '1', '0')\n",
    "fire_new['Building Fire'] = np.where((fire_new['full.code'].astype(str).str[:2] == '11') & (fire_new['full.code'].astype(str).str[:3] != '112'), '1', '0')\n",
    "fire_new['Code 100s'] = np.where(fire_new['full.code'].astype(str).str[0] == '1', '1', '0')\n",
    "fire_new['Any Fire Code'] = '1'"
   ]
  },
  {
   "cell_type": "markdown",
   "metadata": {},
   "source": [
    "Now, we want to merge it with address."
   ]
  },
  {
   "cell_type": "code",
   "execution_count": 20,
   "metadata": {},
   "outputs": [],
   "source": [
    "pitt_fire = pd.merge(left=parcel_address,right=fire_new, how='left', left_on =['PROPERTYADDRESS','PROPERTYHOUSENUM'],\n",
    "        right_on = ['street','number'])"
   ]
  },
  {
   "cell_type": "code",
   "execution_count": 21,
   "metadata": {},
   "outputs": [],
   "source": [
    "del pitt_fire['street']\n",
    "del pitt_fire['number']"
   ]
  },
  {
   "cell_type": "markdown",
   "metadata": {},
   "source": [
    "Now, I transform the full.code into different type of fire columns"
   ]
  },
  {
   "cell_type": "code",
   "execution_count": null,
   "metadata": {},
   "outputs": [],
   "source": []
  },
  {
   "cell_type": "markdown",
   "metadata": {},
   "source": [
    "## Fire Inspections Cleaning"
   ]
  },
  {
   "cell_type": "code",
   "execution_count": 22,
   "metadata": {},
   "outputs": [],
   "source": [
    "fire_inspections['parcel'] = fire_inspections['parcel'].str.strip()\n",
    "fire_inspections = fire_inspections[['parcel', 'reported', 'codeset', 'code', 'descript', 'completed']]\n",
    "fire_inspections['reported'] = pd.to_datetime(fire_inspections['reported'])"
   ]
  },
  {
   "cell_type": "code",
   "execution_count": 23,
   "metadata": {},
   "outputs": [
    {
     "data": {
      "text/html": [
       "<div>\n",
       "<style scoped>\n",
       "    .dataframe tbody tr th:only-of-type {\n",
       "        vertical-align: middle;\n",
       "    }\n",
       "\n",
       "    .dataframe tbody tr th {\n",
       "        vertical-align: top;\n",
       "    }\n",
       "\n",
       "    .dataframe thead th {\n",
       "        text-align: right;\n",
       "    }\n",
       "</style>\n",
       "<table border=\"1\" class=\"dataframe\">\n",
       "  <thead>\n",
       "    <tr style=\"text-align: right;\">\n",
       "      <th></th>\n",
       "      <th>PROPERTYHOUSENUM</th>\n",
       "      <th>PROPERTYADDRESS</th>\n",
       "      <th>MUNIDESC</th>\n",
       "      <th>CLASSDESC</th>\n",
       "      <th>parcel</th>\n",
       "      <th>reported</th>\n",
       "      <th>codeset</th>\n",
       "      <th>code</th>\n",
       "      <th>descript</th>\n",
       "      <th>completed</th>\n",
       "    </tr>\n",
       "  </thead>\n",
       "  <tbody>\n",
       "    <tr>\n",
       "      <th>0</th>\n",
       "      <td>564</td>\n",
       "      <td>FORBES AVE</td>\n",
       "      <td>1st Ward  - PITTSBURGH</td>\n",
       "      <td>COMMERCIAL</td>\n",
       "      <td>0002K00173000000</td>\n",
       "      <td>2018-01-18</td>\n",
       "      <td>VIOLATION</td>\n",
       "      <td>1003.6</td>\n",
       "      <td>Means of Egress Continuity                    ...</td>\n",
       "      <td>2018-05-15 00:00:00</td>\n",
       "    </tr>\n",
       "    <tr>\n",
       "      <th>1</th>\n",
       "      <td>564</td>\n",
       "      <td>FORBES AVE</td>\n",
       "      <td>1st Ward  - PITTSBURGH</td>\n",
       "      <td>COMMERCIAL</td>\n",
       "      <td>0002K00173000000</td>\n",
       "      <td>2018-01-18</td>\n",
       "      <td>VIOLATION</td>\n",
       "      <td>1006.3</td>\n",
       "      <td>Illumination Emergency Power                  ...</td>\n",
       "      <td>2018-05-15 00:00:00</td>\n",
       "    </tr>\n",
       "    <tr>\n",
       "      <th>2</th>\n",
       "      <td>564</td>\n",
       "      <td>FORBES AVE</td>\n",
       "      <td>1st Ward  - PITTSBURGH</td>\n",
       "      <td>COMMERCIAL</td>\n",
       "      <td>0002K00173000000</td>\n",
       "      <td>2018-01-18</td>\n",
       "      <td>VIOLATION</td>\n",
       "      <td>1011.5.3</td>\n",
       "      <td>Power Source - Exit Signs                     ...</td>\n",
       "      <td>2018-05-15 00:00:00</td>\n",
       "    </tr>\n",
       "    <tr>\n",
       "      <th>3</th>\n",
       "      <td>564</td>\n",
       "      <td>FORBES AVE</td>\n",
       "      <td>1st Ward  - PITTSBURGH</td>\n",
       "      <td>COMMERCIAL</td>\n",
       "      <td>0002K00173000000</td>\n",
       "      <td>2018-01-18</td>\n",
       "      <td>VIOLATION</td>\n",
       "      <td>1022.8</td>\n",
       "      <td>Floor numbers in stairwell                    ...</td>\n",
       "      <td>2018-05-15 00:00:00</td>\n",
       "    </tr>\n",
       "    <tr>\n",
       "      <th>4</th>\n",
       "      <td>564</td>\n",
       "      <td>FORBES AVE</td>\n",
       "      <td>1st Ward  - PITTSBURGH</td>\n",
       "      <td>COMMERCIAL</td>\n",
       "      <td>0002K00173000000</td>\n",
       "      <td>2018-01-18</td>\n",
       "      <td>VIOLATION</td>\n",
       "      <td>107.1</td>\n",
       "      <td>Maintenance of Safeguards                     ...</td>\n",
       "      <td>2018-05-15 00:00:00</td>\n",
       "    </tr>\n",
       "  </tbody>\n",
       "</table>\n",
       "</div>"
      ],
      "text/plain": [
       "  PROPERTYHOUSENUM PROPERTYADDRESS                MUNIDESC   CLASSDESC  \\\n",
       "0              564      FORBES AVE  1st Ward  - PITTSBURGH  COMMERCIAL   \n",
       "1              564      FORBES AVE  1st Ward  - PITTSBURGH  COMMERCIAL   \n",
       "2              564      FORBES AVE  1st Ward  - PITTSBURGH  COMMERCIAL   \n",
       "3              564      FORBES AVE  1st Ward  - PITTSBURGH  COMMERCIAL   \n",
       "4              564      FORBES AVE  1st Ward  - PITTSBURGH  COMMERCIAL   \n",
       "\n",
       "             parcel   reported     codeset                       code  \\\n",
       "0  0002K00173000000 2018-01-18  VIOLATION   1003.6                      \n",
       "1  0002K00173000000 2018-01-18  VIOLATION   1006.3                      \n",
       "2  0002K00173000000 2018-01-18  VIOLATION   1011.5.3                    \n",
       "3  0002K00173000000 2018-01-18  VIOLATION   1022.8                      \n",
       "4  0002K00173000000 2018-01-18  VIOLATION   107.1                       \n",
       "\n",
       "                                            descript            completed  \n",
       "0  Means of Egress Continuity                    ...  2018-05-15 00:00:00  \n",
       "1  Illumination Emergency Power                  ...  2018-05-15 00:00:00  \n",
       "2  Power Source - Exit Signs                     ...  2018-05-15 00:00:00  \n",
       "3  Floor numbers in stairwell                    ...  2018-05-15 00:00:00  \n",
       "4  Maintenance of Safeguards                     ...  2018-05-15 00:00:00  "
      ]
     },
     "execution_count": 23,
     "metadata": {},
     "output_type": "execute_result"
    }
   ],
   "source": [
    "pitt_inspect = pd.merge(left=parcel_address, right=fire_inspections, how='left', left_on=['PARID'], right_on=['parcel'])\n",
    "del pitt_inspect['PARID']\n",
    "pitt_inspect.head()"
   ]
  },
  {
   "cell_type": "markdown",
   "metadata": {},
   "source": [
    "## Filtering out Properties not in Pittsburgh"
   ]
  },
  {
   "cell_type": "markdown",
   "metadata": {},
   "source": [
    "Getting rid of outliers"
   ]
  },
  {
   "cell_type": "code",
   "execution_count": 27,
   "metadata": {},
   "outputs": [],
   "source": [
    "pitt_fire = pitt_fire[pitt_fire['MUNIDESC'].str.contains(\"Ward|Ingram|Wilkinsburg\",na=False)]\n",
    "pitt_inspect = pitt_inspect[pitt_inspect['MUNIDESC'].str.contains(\"Ward|Ingram|Wilkinsburg\",na=False)]\n",
    "# get rid of residential properteis in inspections\n",
    "pitt_inspect = pitt_inspect[pitt_inspect.CLASSDESC!='RESIDENTIAL']\n",
    "\n",
    "pitt_fire = pitt_fire[pitt_fire.PROPERTYHOUSENUM!= '0']\n",
    "pitt_fire = pitt_fire[pitt_fire.PROPERTYHOUSENUM!= 'NaN']\n",
    "pitt_fire = pitt_fire[pitt_fire.PROPERTYADDRESS!= '']\n",
    "pitt_fire = pitt_fire[pitt_fire.PROPERTYADDRESS!= 'NaN']\n",
    "pitt_fire.loc[pitt_fire['111 - Building Fire'] != '1', '111 - Building Fire'] = '0'\n",
    "pitt_fire.loc[pitt_fire['Building Fire'] != '1', 'Building Fire'] = '0'\n",
    "pitt_fire.loc[pitt_fire['Code 100s'] != '1', 'Code 100s'] = '0'\n",
    "pitt_fire.loc[pitt_fire['Any Fire Code'] != '1', 'Any Fire Code'] = '0'\n",
    "\n",
    "pitt_inspect = pitt_inspect[pitt_inspect.PROPERTYADDRESS!= '']\n",
    "pitt_inspect = pitt_inspect[pitt_inspect.PROPERTYHOUSENUM!= '0']"
   ]
  },
  {
   "cell_type": "markdown",
   "metadata": {},
   "source": [
    "## Making Commercial Fire Dataset"
   ]
  },
  {
   "cell_type": "code",
   "execution_count": 28,
   "metadata": {},
   "outputs": [],
   "source": [
    "pitt_fire_c = pitt_fire[pitt_fire.CLASSDESC!='RESIDENTIAL']\n",
    "pitt_fire_c = pitt_fire_c.groupby(['PROPERTYADDRESS', 'PROPERTYHOUSENUM'], as_index=False).max()"
   ]
  },
  {
   "cell_type": "markdown",
   "metadata": {},
   "source": [
    "## Making Residential Fire Dataset"
   ]
  },
  {
   "cell_type": "code",
   "execution_count": 29,
   "metadata": {},
   "outputs": [
    {
     "data": {
      "text/html": [
       "<div>\n",
       "<style scoped>\n",
       "    .dataframe tbody tr th:only-of-type {\n",
       "        vertical-align: middle;\n",
       "    }\n",
       "\n",
       "    .dataframe tbody tr th {\n",
       "        vertical-align: top;\n",
       "    }\n",
       "\n",
       "    .dataframe thead th {\n",
       "        text-align: right;\n",
       "    }\n",
       "</style>\n",
       "<table border=\"1\" class=\"dataframe\">\n",
       "  <thead>\n",
       "    <tr style=\"text-align: right;\">\n",
       "      <th></th>\n",
       "      <th>PROPERTYHOUSENUM</th>\n",
       "      <th>PROPERTYADDRESS</th>\n",
       "      <th>PARID</th>\n",
       "      <th>MUNIDESC</th>\n",
       "      <th>CLASSDESC</th>\n",
       "      <th>CALL_CREATED_DATE</th>\n",
       "      <th>CALL_TYPE_FINAL</th>\n",
       "      <th>full.code</th>\n",
       "      <th>111 - Building Fire</th>\n",
       "      <th>Building Fire</th>\n",
       "      <th>Code 100s</th>\n",
       "      <th>Any Fire Code</th>\n",
       "    </tr>\n",
       "  </thead>\n",
       "  <tbody>\n",
       "    <tr>\n",
       "      <th>228</th>\n",
       "      <td>300</td>\n",
       "      <td>4TH AVE</td>\n",
       "      <td>0001H00327020100</td>\n",
       "      <td>1st Ward  - PITTSBURGH</td>\n",
       "      <td>RESIDENTIAL</td>\n",
       "      <td>NaT</td>\n",
       "      <td>NaN</td>\n",
       "      <td>NaN</td>\n",
       "      <td>0.0</td>\n",
       "      <td>0.0</td>\n",
       "      <td>0.0</td>\n",
       "      <td>0.0</td>\n",
       "    </tr>\n",
       "    <tr>\n",
       "      <th>229</th>\n",
       "      <td>306</td>\n",
       "      <td>4TH AVE</td>\n",
       "      <td>0001H00327020200</td>\n",
       "      <td>1st Ward  - PITTSBURGH</td>\n",
       "      <td>RESIDENTIAL</td>\n",
       "      <td>2015-08-26</td>\n",
       "      <td>False Alarm</td>\n",
       "      <td>743 - Smoke detector activation, no fire - uni...</td>\n",
       "      <td>0.0</td>\n",
       "      <td>0.0</td>\n",
       "      <td>0.0</td>\n",
       "      <td>1.0</td>\n",
       "    </tr>\n",
       "    <tr>\n",
       "      <th>230</th>\n",
       "      <td>306</td>\n",
       "      <td>4TH AVE</td>\n",
       "      <td>0001H00327020200</td>\n",
       "      <td>1st Ward  - PITTSBURGH</td>\n",
       "      <td>RESIDENTIAL</td>\n",
       "      <td>2015-10-09</td>\n",
       "      <td>False Alarm</td>\n",
       "      <td>712 - Direct tie to FD, malicious false alarm ...</td>\n",
       "      <td>0.0</td>\n",
       "      <td>0.0</td>\n",
       "      <td>0.0</td>\n",
       "      <td>1.0</td>\n",
       "    </tr>\n",
       "    <tr>\n",
       "      <th>231</th>\n",
       "      <td>306</td>\n",
       "      <td>4TH AVE</td>\n",
       "      <td>0001H00327020200</td>\n",
       "      <td>1st Ward  - PITTSBURGH</td>\n",
       "      <td>RESIDENTIAL</td>\n",
       "      <td>2016-05-25</td>\n",
       "      <td>False Alarm</td>\n",
       "      <td>5001 - Smoke Detector Activation, No Fire     ...</td>\n",
       "      <td>0.0</td>\n",
       "      <td>0.0</td>\n",
       "      <td>0.0</td>\n",
       "      <td>1.0</td>\n",
       "    </tr>\n",
       "    <tr>\n",
       "      <th>232</th>\n",
       "      <td>300</td>\n",
       "      <td>4TH AVE</td>\n",
       "      <td>0001H00327020300</td>\n",
       "      <td>1st Ward  - PITTSBURGH</td>\n",
       "      <td>RESIDENTIAL</td>\n",
       "      <td>NaT</td>\n",
       "      <td>NaN</td>\n",
       "      <td>NaN</td>\n",
       "      <td>0.0</td>\n",
       "      <td>0.0</td>\n",
       "      <td>0.0</td>\n",
       "      <td>0.0</td>\n",
       "    </tr>\n",
       "  </tbody>\n",
       "</table>\n",
       "</div>"
      ],
      "text/plain": [
       "    PROPERTYHOUSENUM PROPERTYADDRESS             PARID  \\\n",
       "228              300         4TH AVE  0001H00327020100   \n",
       "229              306         4TH AVE  0001H00327020200   \n",
       "230              306         4TH AVE  0001H00327020200   \n",
       "231              306         4TH AVE  0001H00327020200   \n",
       "232              300         4TH AVE  0001H00327020300   \n",
       "\n",
       "                   MUNIDESC    CLASSDESC CALL_CREATED_DATE CALL_TYPE_FINAL  \\\n",
       "228  1st Ward  - PITTSBURGH  RESIDENTIAL               NaT             NaN   \n",
       "229  1st Ward  - PITTSBURGH  RESIDENTIAL        2015-08-26     False Alarm   \n",
       "230  1st Ward  - PITTSBURGH  RESIDENTIAL        2015-10-09     False Alarm   \n",
       "231  1st Ward  - PITTSBURGH  RESIDENTIAL        2016-05-25     False Alarm   \n",
       "232  1st Ward  - PITTSBURGH  RESIDENTIAL               NaT             NaN   \n",
       "\n",
       "                                             full.code  111 - Building Fire  \\\n",
       "228                                                NaN                  0.0   \n",
       "229  743 - Smoke detector activation, no fire - uni...                  0.0   \n",
       "230  712 - Direct tie to FD, malicious false alarm ...                  0.0   \n",
       "231  5001 - Smoke Detector Activation, No Fire     ...                  0.0   \n",
       "232                                                NaN                  0.0   \n",
       "\n",
       "     Building Fire  Code 100s  Any Fire Code  \n",
       "228            0.0        0.0            0.0  \n",
       "229            0.0        0.0            1.0  \n",
       "230            0.0        0.0            1.0  \n",
       "231            0.0        0.0            1.0  \n",
       "232            0.0        0.0            0.0  "
      ]
     },
     "execution_count": 29,
     "metadata": {},
     "output_type": "execute_result"
    }
   ],
   "source": [
    "pitt_fire_r = pitt_fire[pitt_fire.CLASSDESC =='RESIDENTIAL']\n",
    "pitt_fire_r.head()"
   ]
  },
  {
   "cell_type": "markdown",
   "metadata": {},
   "source": [
    "## Merge with Results of Commerical Model "
   ]
  },
  {
   "cell_type": "code",
   "execution_count": 30,
   "metadata": {},
   "outputs": [],
   "source": [
    "results = results[['PROPERTYADDRESS', 'PROPERTYHOUSENUM', 'RiskScore']]"
   ]
  },
  {
   "cell_type": "code",
   "execution_count": 31,
   "metadata": {},
   "outputs": [],
   "source": [
    "pitt_fire_c = pd.merge(left=results,right=pitt_fire_c, how='left', left_on =['PROPERTYADDRESS','PROPERTYHOUSENUM'],\n",
    "        right_on = ['PROPERTYADDRESS','PROPERTYHOUSENUM'])"
   ]
  },
  {
   "cell_type": "code",
   "execution_count": 32,
   "metadata": {},
   "outputs": [
    {
     "data": {
      "text/html": [
       "<div>\n",
       "<style scoped>\n",
       "    .dataframe tbody tr th:only-of-type {\n",
       "        vertical-align: middle;\n",
       "    }\n",
       "\n",
       "    .dataframe tbody tr th {\n",
       "        vertical-align: top;\n",
       "    }\n",
       "\n",
       "    .dataframe thead th {\n",
       "        text-align: right;\n",
       "    }\n",
       "</style>\n",
       "<table border=\"1\" class=\"dataframe\">\n",
       "  <thead>\n",
       "    <tr style=\"text-align: right;\">\n",
       "      <th></th>\n",
       "      <th>PROPERTYADDRESS</th>\n",
       "      <th>PROPERTYHOUSENUM</th>\n",
       "      <th>RiskScore</th>\n",
       "      <th>PARID</th>\n",
       "      <th>MUNIDESC</th>\n",
       "      <th>CLASSDESC</th>\n",
       "      <th>CALL_CREATED_DATE</th>\n",
       "      <th>CALL_TYPE_FINAL</th>\n",
       "      <th>full.code</th>\n",
       "      <th>111 - Building Fire</th>\n",
       "      <th>Building Fire</th>\n",
       "      <th>Code 100s</th>\n",
       "      <th>Any Fire Code</th>\n",
       "    </tr>\n",
       "  </thead>\n",
       "  <tbody>\n",
       "    <tr>\n",
       "      <th>0</th>\n",
       "      <td>ALGER ST</td>\n",
       "      <td>1</td>\n",
       "      <td>0.001652</td>\n",
       "      <td>0054K00230000000</td>\n",
       "      <td>15th Ward - PITTSBURGH</td>\n",
       "      <td>GOVERNMENT</td>\n",
       "      <td>2017-06-12</td>\n",
       "      <td>Hazardous Conditions</td>\n",
       "      <td>412 - Gas leak (natural gas or LPG)           ...</td>\n",
       "      <td>0.0</td>\n",
       "      <td>0.0</td>\n",
       "      <td>0.0</td>\n",
       "      <td>1.0</td>\n",
       "    </tr>\n",
       "    <tr>\n",
       "      <th>1</th>\n",
       "      <td>ALLEGHENY AVE</td>\n",
       "      <td>1</td>\n",
       "      <td>0.002512</td>\n",
       "      <td>0007M00500000000</td>\n",
       "      <td>21st Ward - PITTSBURGH</td>\n",
       "      <td>GOVERNMENT</td>\n",
       "      <td>2018-07-12</td>\n",
       "      <td>Service Call</td>\n",
       "      <td>745 - Alarm system activation, no fire - unint...</td>\n",
       "      <td>1.0</td>\n",
       "      <td>1.0</td>\n",
       "      <td>1.0</td>\n",
       "      <td>1.0</td>\n",
       "    </tr>\n",
       "    <tr>\n",
       "      <th>2</th>\n",
       "      <td>BIGELOW SQ</td>\n",
       "      <td>1</td>\n",
       "      <td>0.000172</td>\n",
       "      <td>0002B00096000000</td>\n",
       "      <td>2nd Ward - PITTSBURGH</td>\n",
       "      <td>COMMERCIAL</td>\n",
       "      <td>2018-07-03</td>\n",
       "      <td>Service Call</td>\n",
       "      <td>745 - Alarm system activation, no fire - unint...</td>\n",
       "      <td>0.0</td>\n",
       "      <td>0.0</td>\n",
       "      <td>1.0</td>\n",
       "      <td>1.0</td>\n",
       "    </tr>\n",
       "    <tr>\n",
       "      <th>3</th>\n",
       "      <td>HEINZ ST</td>\n",
       "      <td>1</td>\n",
       "      <td>0.000197</td>\n",
       "      <td>0024P00120000000</td>\n",
       "      <td>23rd Ward - PITTSBURGH</td>\n",
       "      <td>OTHER</td>\n",
       "      <td>2017-03-27</td>\n",
       "      <td>Good Intent</td>\n",
       "      <td>745 - Alarm system activation, no fire - unint...</td>\n",
       "      <td>0.0</td>\n",
       "      <td>0.0</td>\n",
       "      <td>0.0</td>\n",
       "      <td>1.0</td>\n",
       "    </tr>\n",
       "    <tr>\n",
       "      <th>4</th>\n",
       "      <td>TRIMONT LN</td>\n",
       "      <td>1</td>\n",
       "      <td>0.006536</td>\n",
       "      <td>0006M00312D16600</td>\n",
       "      <td>19th Ward - PITTSBURGH</td>\n",
       "      <td>COMMERCIAL</td>\n",
       "      <td>2017-07-08</td>\n",
       "      <td>False Alarm</td>\n",
       "      <td>745 - Alarm system activation, no fire - unint...</td>\n",
       "      <td>0.0</td>\n",
       "      <td>0.0</td>\n",
       "      <td>0.0</td>\n",
       "      <td>1.0</td>\n",
       "    </tr>\n",
       "  </tbody>\n",
       "</table>\n",
       "</div>"
      ],
      "text/plain": [
       "  PROPERTYADDRESS PROPERTYHOUSENUM  RiskScore             PARID  \\\n",
       "0        ALGER ST                1   0.001652  0054K00230000000   \n",
       "1   ALLEGHENY AVE                1   0.002512  0007M00500000000   \n",
       "2      BIGELOW SQ                1   0.000172  0002B00096000000   \n",
       "3        HEINZ ST                1   0.000197  0024P00120000000   \n",
       "4      TRIMONT LN                1   0.006536  0006M00312D16600   \n",
       "\n",
       "                 MUNIDESC   CLASSDESC CALL_CREATED_DATE       CALL_TYPE_FINAL  \\\n",
       "0  15th Ward - PITTSBURGH  GOVERNMENT        2017-06-12  Hazardous Conditions   \n",
       "1  21st Ward - PITTSBURGH  GOVERNMENT        2018-07-12          Service Call   \n",
       "2   2nd Ward - PITTSBURGH  COMMERCIAL        2018-07-03          Service Call   \n",
       "3  23rd Ward - PITTSBURGH       OTHER        2017-03-27           Good Intent   \n",
       "4  19th Ward - PITTSBURGH  COMMERCIAL        2017-07-08           False Alarm   \n",
       "\n",
       "                                           full.code  111 - Building Fire  \\\n",
       "0  412 - Gas leak (natural gas or LPG)           ...                  0.0   \n",
       "1  745 - Alarm system activation, no fire - unint...                  1.0   \n",
       "2  745 - Alarm system activation, no fire - unint...                  0.0   \n",
       "3  745 - Alarm system activation, no fire - unint...                  0.0   \n",
       "4  745 - Alarm system activation, no fire - unint...                  0.0   \n",
       "\n",
       "   Building Fire  Code 100s  Any Fire Code  \n",
       "0            0.0        0.0            1.0  \n",
       "1            1.0        1.0            1.0  \n",
       "2            0.0        1.0            1.0  \n",
       "3            0.0        0.0            1.0  \n",
       "4            0.0        0.0            1.0  "
      ]
     },
     "execution_count": 32,
     "metadata": {},
     "output_type": "execute_result"
    }
   ],
   "source": [
    "pitt_inspect =  pd.merge(left=results, right=pitt_inspect, how='right', left_on=['PROPERTYADDRESS','PROPERTYHOUSENUM'],\n",
    "        right_on = ['PROPERTYADDRESS','PROPERTYHOUSENUM'])\n",
    "pitt_fire_c.head()"
   ]
  },
  {
   "cell_type": "markdown",
   "metadata": {},
   "source": [
    "## Merge with Results of Residential Model"
   ]
  },
  {
   "cell_type": "code",
   "execution_count": 33,
   "metadata": {},
   "outputs": [],
   "source": [
    "## get the residential model csv and we can do this part very easily"
   ]
  },
  {
   "cell_type": "markdown",
   "metadata": {},
   "source": [
    "## Commerical Fire Distribution"
   ]
  },
  {
   "cell_type": "code",
   "execution_count": 34,
   "metadata": {},
   "outputs": [],
   "source": [
    "cutoff = datetime.datetime.now() - relativedelta(months=6)\n",
    "cutoffdate = cutoff.strftime(\"%m/%d/%Y\")\n",
    "#data_over = pitt_fire_c[pitt_fire_c.CALL_CREATED_DATE > cutoffdate]\n",
    "\n",
    "high = pitt_fire_c[pitt_fire_c['RiskScore'] >= 0.70]\n",
    "medium = pitt_fire_c[(pitt_fire_c['RiskScore'] < 0.70) & (pitt_fire_c['RiskScore'] >= 0.40)]\n",
    "low = pitt_fire_c[(pitt_fire_c['RiskScore'] >= 0) & (pitt_fire_c['RiskScore'] < 0.40)]"
   ]
  },
  {
   "cell_type": "code",
   "execution_count": 49,
   "metadata": {},
   "outputs": [],
   "source": [
    "high = high.drop_duplicates(subset=['PROPERTYADDRESS', 'PROPERTYHOUSENUM'])\n",
    "medium = medium.drop_duplicates(subset=['PROPERTYADDRESS', 'PROPERTYHOUSENUM'])\n",
    "low = low.drop_duplicates(subset=['PROPERTYADDRESS', 'PROPERTYHOUSENUM'])"
   ]
  },
  {
   "cell_type": "code",
   "execution_count": 46,
   "metadata": {},
   "outputs": [
    {
     "data": {
      "text/plain": [
       "371.0"
      ]
     },
     "execution_count": 46,
     "metadata": {},
     "output_type": "execute_result"
    }
   ],
   "source": [
    "building_sum_h = high['111 - Building Fire'].sum()\n",
    "building_fire_h = high['Building Fire'].sum()\n",
    "code_100_h = high['Code 100s'].sum()\n",
    "fire_h = high['Any Fire Code'].sum()"
   ]
  },
  {
   "cell_type": "code",
   "execution_count": 48,
   "metadata": {},
   "outputs": [],
   "source": [
    "building_sum_m = medium['111 - Building Fire'].sum()\n",
    "building_fire_m = medium['Building Fire'].sum()\n",
    "code_100_m = medium['Code 100s'].sum()\n",
    "fire_m = medium['Any Fire Code'].sum()"
   ]
  },
  {
   "cell_type": "code",
   "execution_count": 47,
   "metadata": {},
   "outputs": [],
   "source": [
    "building_sum_l = low['111 - Building Fire'].sum()\n",
    "building_fire_l = low['Building Fire'].sum()\n",
    "code_100_l = low['Code 100s'].sum()\n",
    "fire_l = low['Any Fire Code'].sum()"
   ]
  },
  {
   "cell_type": "markdown",
   "metadata": {},
   "source": [
    "## Out of those that had a high risk score, how many of them actually had inspection violations? "
   ]
  },
  {
   "cell_type": "code",
   "execution_count": null,
   "metadata": {},
   "outputs": [],
   "source": [
    "pitt_inspect['viol_cutoff'] = np.where(pitt_inspect['RiskScore']>0.70, 1, 0)\n",
    "pitt_inspect['risk_high'] = np.where((pitt_inspect['RiskScore'] >=0.70) & (pitt_inspect['reported'] > cutoff), 1, 0)\n",
    "pitt_inspect.drop_duplicates(subset=['PROPERTYADDRESS', 'PROPERTYHOUSENUM'])"
   ]
  },
  {
   "cell_type": "code",
   "execution_count": null,
   "metadata": {},
   "outputs": [],
   "source": [
    "has_viol_set = has_viol.drop_duplicates(subset=['PROPERTYADDRESS', 'PROPERTYHOUSENUM'])\n",
    "high_bracket = has_viol_set[has_viol_set['RiskScore']> 0.70].sort_values(['RiskScore'], ascending=False)\n",
    "high_bracket"
   ]
  },
  {
   "cell_type": "code",
   "execution_count": null,
   "metadata": {},
   "outputs": [],
   "source": [
    "fire_new = pd.read_csv(\"datasets/Fire_Incidents_New.csv\", low_memory=False, encoding = 'utf-8',dtype={'street':'str','number':'str', 'CALL_CREATED_DATE': 'str'})"
   ]
  },
  {
   "cell_type": "code",
   "execution_count": null,
   "metadata": {},
   "outputs": [],
   "source": [
    "set(fire_new['full.code'])"
   ]
  },
  {
   "cell_type": "code",
   "execution_count": null,
   "metadata": {},
   "outputs": [],
   "source": []
  }
 ],
 "metadata": {
  "kernelspec": {
   "display_name": "Python 3",
   "language": "python",
   "name": "python3"
  },
  "language_info": {
   "codemirror_mode": {
    "name": "ipython",
    "version": 3
   },
   "file_extension": ".py",
   "mimetype": "text/x-python",
   "name": "python",
   "nbconvert_exporter": "python",
   "pygments_lexer": "ipython3",
   "version": "3.6.5"
  }
 },
 "nbformat": 4,
 "nbformat_minor": 2
}
